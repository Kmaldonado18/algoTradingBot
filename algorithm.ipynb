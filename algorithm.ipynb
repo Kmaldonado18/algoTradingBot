{
 "cells": [
  {
   "cell_type": "code",
   "execution_count": null,
   "metadata": {},
   "outputs": [],
   "source": [
    "import numpy as np\n",
    "import pandas as pd\n",
    "#import hvplot.pandas\n",
    "import ccxt\n",
    "import os"
   ]
  },
  {
   "cell_type": "code",
   "execution_count": null,
   "metadata": {},
   "outputs": [],
   "source": [
    "kraken_public_key = os.getenv('KRAKEN_PUBLIC_KEY')\n",
    "kraken_secret_key = os.getenv('KRAKEN_SECRET_KEY')"
   ]
  },
  {
   "cell_type": "code",
   "execution_count": null,
   "metadata": {},
   "outputs": [],
   "source": [
    "exchange = ccxt.kraken({\n",
    "    'apiKey': kraken_public_key,\n",
    "    'secret': kraken_secret_key,\n",
    "})"
   ]
  },
  {
   "cell_type": "code",
   "execution_count": null,
   "metadata": {},
   "outputs": [],
   "source": [
    "def get_crypto_details ():\n",
    "    crypto_details = exchange.load_markets()\n",
    "\n",
    "# Import data as a Pandas DataFrame\n",
    "    crypto_df = df.DataFrame(crypto_details)\n",
    "    return crypto_df\n"
   ]
  },
  {
   "cell_type": "code",
   "execution_count": null,
   "metadata": {},
   "outputs": [],
   "source": [
    "#print(type(crypto_df.columns.values))\n",
    "#print(crypto_df.columns.values)\n",
    "#print(len(crypto_df.columns.values))"
   ]
  },
  {
   "cell_type": "code",
   "execution_count": null,
   "metadata": {
    "tags": []
   },
   "outputs": [],
   "source": [
    "print(ccxt.exchanges) # print a list of all available exchange classes\n"
   ]
  },
  {
   "cell_type": "code",
   "execution_count": null,
   "metadata": {},
   "outputs": [],
   "source": [
    "#exchange.has"
   ]
  },
  {
   "cell_type": "code",
   "execution_count": null,
   "metadata": {},
   "outputs": [],
   "source": [
    "def get_crypto_data (exchange, ticker):\n",
    "    historical_prices = exchange.fetch_ohlcv( ticker, \"1d\")\n",
    "\n",
    "# Import the data as Pandas DataFrame and set the columns\n",
    "    historical_prices_df = pd.DataFrame(\n",
    "        historical_prices, columns=[\"timestamp\", \"open\", \"high\", \"low\", \"close\", \"volume\"]\n",
    "    )\n",
    "    #historical_prices_df"
   ]
  },
  {
   "cell_type": "code",
   "execution_count": null,
   "metadata": {},
   "outputs": [],
   "source": [
    "historical_prices_df[\"date\"] = pd.to_datetime(\n",
    "    historical_prices_df[\"timestamp\"], unit=\"ms\"\n",
    ")\n",
    "historical_prices_df.tail()"
   ]
  },
  {
   "cell_type": "code",
   "execution_count": null,
   "metadata": {},
   "outputs": [],
   "source": [
    "historical_prices_df.set_index(\"date\", inplace = True)\n",
    "\n",
    "#, infer_datetime_format=True, parse_dates=True, inplace=True, ascending=True)\n",
    "#historical_prices_df.head()\n",
    "\n",
    "#df2  index_col=\"Date\", infer_datetime_format=True, parse_dates=True)['Close']\n",
    "#df2 = df2.sort_index()\n",
    "#df2.tail()"
   ]
  },
  {
   "cell_type": "code",
   "execution_count": null,
   "metadata": {},
   "outputs": [],
   "source": [
    "historical_prices_df.tail()"
   ]
  },
  {
   "cell_type": "code",
   "execution_count": null,
   "metadata": {},
   "outputs": [],
   "source": []
  }
 ],
 "metadata": {
  "kernelspec": {
   "display_name": "Python 3",
   "language": "python",
   "name": "python3"
  },
  "language_info": {
   "codemirror_mode": {
    "name": "ipython",
    "version": 3
   },
   "file_extension": ".py",
   "mimetype": "text/x-python",
   "name": "python",
   "nbconvert_exporter": "python",
   "pygments_lexer": "ipython3",
   "version": "3.7.4-final"
  }
 },
 "nbformat": 4,
 "nbformat_minor": 4
}