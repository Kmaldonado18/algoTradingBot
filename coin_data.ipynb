{
 "cells": [
  {
   "cell_type": "code",
   "execution_count": null,
   "metadata": {},
   "outputs": [],
   "source": [
    "import numpy as np\n",
    "import pandas as pd\n",
    "#import hvplot.pandas\n",
    "import ccxt\n",
    "import os"
   ]
  },
  {
   "cell_type": "code",
   "execution_count": null,
   "metadata": {},
   "outputs": [],
   "source": [
    "kraken_public_key = os.getenv('KRAKEN_PUBLIC_KEY')\n",
    "kraken_secret_key = os.getenv('KRAKEN_SECRET_KEY')"
   ]
  },
  {
   "cell_type": "code",
   "execution_count": null,
   "metadata": {},
   "outputs": [],
   "source": [
    "exchange = ccxt.kraken({\n",
    "    'apiKey': kraken_public_key,\n",
    "    'secret': kraken_secret_key,\n",
    "})"
   ]
  },
  {
   "cell_type": "code",
   "execution_count": null,
   "metadata": {
    "tags": []
   },
   "outputs": [],
   "source": [
    "def get_crypto_details ():\n",
    "    crypto_details = exchange.load_markets()\n",
    "\n",
    "# Import data as a Pandas DataFrame\n",
    "    crypto_df = pd.DataFrame(crypto_details)\n",
    "    return crypto_df\n",
    "crypto_df\n"
   ]
  },
  {
   "cell_type": "code",
   "execution_count": null,
   "metadata": {},
   "outputs": [],
   "source": [
    "#print(type(crypto_df.columns.values))\n",
    "#print(crypto_df.columns.values)\n",
    "#print(len(crypto_df.columns.values))"
   ]
  },
  {
   "cell_type": "code",
   "execution_count": null,
   "metadata": {
    "tags": []
   },
   "outputs": [],
   "source": [
    "print(ccxt.exchanges) # print a list of all available exchange classes\n"
   ]
  },
  {
   "cell_type": "code",
   "execution_count": null,
   "metadata": {},
   "outputs": [],
   "source": [
    "#exchange.has"
   ]
  },
  {
   "cell_type": "code",
   "execution_count": null,
   "metadata": {},
   "outputs": [],
   "source": [
    "# Fetch historical bitcoin prices\n",
    "btc_historical_prices = exchange.fetch_ohlcv(\"BTC/USD\")    \n",
    "btc_historical_prices"
   ]
  },
  {
   "cell_type": "code",
   "execution_count": null,
   "metadata": {},
   "outputs": [],
   "source": [
    "# Import the data as a pandas DataFrame and set the columns\n",
    "btc_historical_prices_df = pd.DataFrame(\n",
    "    btc_historical_prices, columns=[\"timestamp\", \"open\", \"high\", \"low\", \"close\", \"volume\"]\n",
    ")\n",
    "#btc_historical_prices_df"
   ]
  },
  {
   "cell_type": "code",
   "execution_count": null,
   "metadata": {},
   "outputs": [],
   "source": [
    "btc_historical_prices_df[\"date\"] = pd.to_datetime(\n",
    "    btc_historical_prices_df[\"timestamp\"], unit=\"ms\"\n",
    ")\n",
    "btc_historical_prices_df.tail()"
   ]
  },
  {
   "cell_type": "code",
   "execution_count": null,
   "metadata": {},
   "outputs": [],
   "source": [
    "btc_historical_prices_df.set_index(\"date\", inplace= True)\n",
    "btc_historical_prices_df"
   ]
  },
  {
   "cell_type": "code",
   "execution_count": null,
   "metadata": {},
   "outputs": [],
   "source": []
  }
 ],
 "metadata": {
  "kernelspec": {
   "display_name": "Python 3",
   "language": "python",
   "name": "python3"
  },
  "language_info": {
   "codemirror_mode": {
    "name": "ipython",
    "version": 3
   },
   "file_extension": ".py",
   "mimetype": "text/x-python",
   "name": "python",
   "nbconvert_exporter": "python",
   "pygments_lexer": "ipython3",
   "version": "3.7.4-final"
  }
 },
 "nbformat": 4,
 "nbformat_minor": 4
}