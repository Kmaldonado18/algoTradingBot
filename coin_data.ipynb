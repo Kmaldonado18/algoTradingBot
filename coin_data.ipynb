{
 "cells": [
  {
   "cell_type": "code",
   "execution_count": null,
   "metadata": {},
   "outputs": [],
   "source": [
    "import numpy as np\n",
    "import pandas as pd\n",
    "#import hvplot.pandas\n",
    "import ccxt\n",
    "import os"
   ]
  },
  {
   "cell_type": "code",
   "execution_count": null,
   "metadata": {},
   "outputs": [],
   "source": [
    "kraken_public_key = os.getenv('KRAKEN_PUBLIC_KEY')\n",
    "kraken_secret_key = os.getenv('KRAKEN_SECRET_KEY')"
   ]
  },
  {
   "cell_type": "code",
   "execution_count": null,
   "metadata": {},
   "outputs": [],
   "source": [
    "exchange = ccxt.kraken({\n",
    "    'apiKey': kraken_public_key,\n",
    "    'secret': kraken_secret_key,\n",
    "})"
   ]
  },
  {
   "cell_type": "code",
   "execution_count": null,
   "metadata": {
    "tags": []
   },
   "outputs": [],
   "source": [
    "def get_crypto_details ():\n",
    "    crypto_details = exchange.load_markets()\n",
    "\n",
    "# Import data as a Pandas DataFrame\n",
    "    crypto_df = pd.DataFrame(crypto_details)\n",
    "    return crypto_df\n",
    "crypto_df\n"
   ]
  },
  {
   "cell_type": "code",
   "execution_count": null,
   "metadata": {},
   "outputs": [],
   "source": [
    "#print(type(crypto_df.columns.values))\n",
    "#print(crypto_df.columns.values)\n",
    "#print(len(crypto_df.columns.values))"
   ]
  },
  {
   "cell_type": "code",
   "execution_count": null,
   "metadata": {
    "tags": []
   },
   "outputs": [],
   "source": [
    "print(ccxt.exchanges) # print a list of all available exchange classes\n"
   ]
  },
  {
   "cell_type": "code",
   "execution_count": null,
   "metadata": {},
   "outputs": [],
   "source": [
    "#exchange.has"
   ]
  },
  {
   "cell_type": "code",
   "execution_count": null,
   "metadata": {},
   "outputs": [],
   "source": [
    "# Fetch historical bitcoin prices\n",
    "btc_historical_prices = exchange.fetch_ohlcv(\"BTC/USD\")    \n",
    "btc_historical_prices"
   ]
  },
  {
   "cell_type": "code",
   "execution_count": null,
   "metadata": {},
   "outputs": [],
   "source": [
    "# Import the data as a pandas DataFrame and set the columns\n",
    "btc_historical_prices_df = pd.DataFrame(\n",
    "    btc_historical_prices, columns=[\"timestamp\", \"open\", \"high\", \"low\", \"close\", \"volume\"]\n",
    ")\n",
    "#btc_historical_prices_df"
   ]
  },
  {
   "cell_type": "code",
   "execution_count": 79,
   "metadata": {},
   "outputs": [
    {
     "output_type": "execute_result",
     "data": {
      "text/plain": "                         timestamp     open     high      low    close  \\\ndate                                                                     \n2020-09-24 03:45:00  1600919100000  10312.6  10312.6  10305.0  10305.0   \n2020-09-24 03:46:00  1600919160000  10305.0  10305.0  10299.2  10299.2   \n2020-09-24 03:47:00  1600919220000  10299.2  10302.7  10299.2  10301.6   \n2020-09-24 03:48:00  1600919280000  10301.6  10301.6  10301.6  10301.6   \n2020-09-24 03:49:00  1600919340000  10301.5  10301.5  10299.2  10299.3   \n\n                       volume                date  \ndate                                               \n2020-09-24 03:45:00  1.171000 2020-09-24 03:45:00  \n2020-09-24 03:46:00  0.323731 2020-09-24 03:46:00  \n2020-09-24 03:47:00  0.196582 2020-09-24 03:47:00  \n2020-09-24 03:48:00  0.050000 2020-09-24 03:48:00  \n2020-09-24 03:49:00  0.051000 2020-09-24 03:49:00  ",
      "text/html": "<div>\n<style scoped>\n    .dataframe tbody tr th:only-of-type {\n        vertical-align: middle;\n    }\n\n    .dataframe tbody tr th {\n        vertical-align: top;\n    }\n\n    .dataframe thead th {\n        text-align: right;\n    }\n</style>\n<table border=\"1\" class=\"dataframe\">\n  <thead>\n    <tr style=\"text-align: right;\">\n      <th></th>\n      <th>timestamp</th>\n      <th>open</th>\n      <th>high</th>\n      <th>low</th>\n      <th>close</th>\n      <th>volume</th>\n      <th>date</th>\n    </tr>\n    <tr>\n      <th>date</th>\n      <th></th>\n      <th></th>\n      <th></th>\n      <th></th>\n      <th></th>\n      <th></th>\n      <th></th>\n    </tr>\n  </thead>\n  <tbody>\n    <tr>\n      <th>2020-09-24 03:45:00</th>\n      <td>1600919100000</td>\n      <td>10312.6</td>\n      <td>10312.6</td>\n      <td>10305.0</td>\n      <td>10305.0</td>\n      <td>1.171000</td>\n      <td>2020-09-24 03:45:00</td>\n    </tr>\n    <tr>\n      <th>2020-09-24 03:46:00</th>\n      <td>1600919160000</td>\n      <td>10305.0</td>\n      <td>10305.0</td>\n      <td>10299.2</td>\n      <td>10299.2</td>\n      <td>0.323731</td>\n      <td>2020-09-24 03:46:00</td>\n    </tr>\n    <tr>\n      <th>2020-09-24 03:47:00</th>\n      <td>1600919220000</td>\n      <td>10299.2</td>\n      <td>10302.7</td>\n      <td>10299.2</td>\n      <td>10301.6</td>\n      <td>0.196582</td>\n      <td>2020-09-24 03:47:00</td>\n    </tr>\n    <tr>\n      <th>2020-09-24 03:48:00</th>\n      <td>1600919280000</td>\n      <td>10301.6</td>\n      <td>10301.6</td>\n      <td>10301.6</td>\n      <td>10301.6</td>\n      <td>0.050000</td>\n      <td>2020-09-24 03:48:00</td>\n    </tr>\n    <tr>\n      <th>2020-09-24 03:49:00</th>\n      <td>1600919340000</td>\n      <td>10301.5</td>\n      <td>10301.5</td>\n      <td>10299.2</td>\n      <td>10299.3</td>\n      <td>0.051000</td>\n      <td>2020-09-24 03:49:00</td>\n    </tr>\n  </tbody>\n</table>\n</div>"
     },
     "metadata": {},
     "execution_count": 79
    }
   ],
   "source": [
    "btc_historical_prices_df[\"date\"] = pd.to_datetime(\n",
    "    btc_historical_prices_df[\"timestamp\"], unit=\"ms\"\n",
    ")\n",
    "btc_historical_prices_df.tail()"
   ]
  },
  {
   "cell_type": "code",
   "execution_count": 86,
   "metadata": {},
   "outputs": [
    {
     "output_type": "execute_result",
     "data": {
      "text/plain": "                         timestamp     open     high      low    close  \\\ndate                                                                     \n2020-09-23 15:50:00  1600876200000  10467.0  10467.0  10467.0  10467.0   \n2020-09-23 15:51:00  1600876260000  10467.0  10467.1  10467.0  10467.1   \n2020-09-23 15:52:00  1600876320000  10467.1  10467.1  10460.0  10460.0   \n2020-09-23 15:53:00  1600876380000  10460.0  10460.1  10455.0  10455.0   \n2020-09-23 15:54:00  1600876440000  10455.0  10458.2  10455.0  10457.8   \n...                            ...      ...      ...      ...      ...   \n2020-09-24 03:45:00  1600919100000  10312.6  10312.6  10305.0  10305.0   \n2020-09-24 03:46:00  1600919160000  10305.0  10305.0  10299.2  10299.2   \n2020-09-24 03:47:00  1600919220000  10299.2  10302.7  10299.2  10301.6   \n2020-09-24 03:48:00  1600919280000  10301.6  10301.6  10301.6  10301.6   \n2020-09-24 03:49:00  1600919340000  10301.5  10301.5  10299.2  10299.3   \n\n                        volume  \ndate                            \n2020-09-23 15:50:00   0.335865  \n2020-09-23 15:51:00   2.959621  \n2020-09-23 15:52:00   2.292336  \n2020-09-23 15:53:00  17.144269  \n2020-09-23 15:54:00   8.603401  \n...                        ...  \n2020-09-24 03:45:00   1.171000  \n2020-09-24 03:46:00   0.323731  \n2020-09-24 03:47:00   0.196582  \n2020-09-24 03:48:00   0.050000  \n2020-09-24 03:49:00   0.051000  \n\n[720 rows x 6 columns]",
      "text/html": "<div>\n<style scoped>\n    .dataframe tbody tr th:only-of-type {\n        vertical-align: middle;\n    }\n\n    .dataframe tbody tr th {\n        vertical-align: top;\n    }\n\n    .dataframe thead th {\n        text-align: right;\n    }\n</style>\n<table border=\"1\" class=\"dataframe\">\n  <thead>\n    <tr style=\"text-align: right;\">\n      <th></th>\n      <th>timestamp</th>\n      <th>open</th>\n      <th>high</th>\n      <th>low</th>\n      <th>close</th>\n      <th>volume</th>\n    </tr>\n    <tr>\n      <th>date</th>\n      <th></th>\n      <th></th>\n      <th></th>\n      <th></th>\n      <th></th>\n      <th></th>\n    </tr>\n  </thead>\n  <tbody>\n    <tr>\n      <th>2020-09-23 15:50:00</th>\n      <td>1600876200000</td>\n      <td>10467.0</td>\n      <td>10467.0</td>\n      <td>10467.0</td>\n      <td>10467.0</td>\n      <td>0.335865</td>\n    </tr>\n    <tr>\n      <th>2020-09-23 15:51:00</th>\n      <td>1600876260000</td>\n      <td>10467.0</td>\n      <td>10467.1</td>\n      <td>10467.0</td>\n      <td>10467.1</td>\n      <td>2.959621</td>\n    </tr>\n    <tr>\n      <th>2020-09-23 15:52:00</th>\n      <td>1600876320000</td>\n      <td>10467.1</td>\n      <td>10467.1</td>\n      <td>10460.0</td>\n      <td>10460.0</td>\n      <td>2.292336</td>\n    </tr>\n    <tr>\n      <th>2020-09-23 15:53:00</th>\n      <td>1600876380000</td>\n      <td>10460.0</td>\n      <td>10460.1</td>\n      <td>10455.0</td>\n      <td>10455.0</td>\n      <td>17.144269</td>\n    </tr>\n    <tr>\n      <th>2020-09-23 15:54:00</th>\n      <td>1600876440000</td>\n      <td>10455.0</td>\n      <td>10458.2</td>\n      <td>10455.0</td>\n      <td>10457.8</td>\n      <td>8.603401</td>\n    </tr>\n    <tr>\n      <th>...</th>\n      <td>...</td>\n      <td>...</td>\n      <td>...</td>\n      <td>...</td>\n      <td>...</td>\n      <td>...</td>\n    </tr>\n    <tr>\n      <th>2020-09-24 03:45:00</th>\n      <td>1600919100000</td>\n      <td>10312.6</td>\n      <td>10312.6</td>\n      <td>10305.0</td>\n      <td>10305.0</td>\n      <td>1.171000</td>\n    </tr>\n    <tr>\n      <th>2020-09-24 03:46:00</th>\n      <td>1600919160000</td>\n      <td>10305.0</td>\n      <td>10305.0</td>\n      <td>10299.2</td>\n      <td>10299.2</td>\n      <td>0.323731</td>\n    </tr>\n    <tr>\n      <th>2020-09-24 03:47:00</th>\n      <td>1600919220000</td>\n      <td>10299.2</td>\n      <td>10302.7</td>\n      <td>10299.2</td>\n      <td>10301.6</td>\n      <td>0.196582</td>\n    </tr>\n    <tr>\n      <th>2020-09-24 03:48:00</th>\n      <td>1600919280000</td>\n      <td>10301.6</td>\n      <td>10301.6</td>\n      <td>10301.6</td>\n      <td>10301.6</td>\n      <td>0.050000</td>\n    </tr>\n    <tr>\n      <th>2020-09-24 03:49:00</th>\n      <td>1600919340000</td>\n      <td>10301.5</td>\n      <td>10301.5</td>\n      <td>10299.2</td>\n      <td>10299.3</td>\n      <td>0.051000</td>\n    </tr>\n  </tbody>\n</table>\n<p>720 rows × 6 columns</p>\n</div>"
     },
     "metadata": {},
     "execution_count": 86
    }
   ],
   "source": [
    "#btc_historical_prices_df.set_index(\"date\", inplace= True)\n",
    "btc_historical_prices_df"
   ]
  },
  {
   "cell_type": "code",
   "execution_count": 87,
   "metadata": {},
   "outputs": [
    {
     "output_type": "execute_result",
     "data": {
      "text/plain": "                         timestamp     open     high      low    close  \\\ndate                                                                     \n2020-09-23 15:50:00  1600876200000  10467.0  10467.0  10467.0  10467.0   \n2020-09-23 15:51:00  1600876260000  10467.0  10467.1  10467.0  10467.1   \n2020-09-23 15:52:00  1600876320000  10467.1  10467.1  10460.0  10460.0   \n2020-09-23 15:53:00  1600876380000  10460.0  10460.1  10455.0  10455.0   \n2020-09-23 15:54:00  1600876440000  10455.0  10458.2  10455.0  10457.8   \n2020-09-23 15:55:00  1600876500000  10457.8  10459.7  10453.3  10459.2   \n2020-09-23 15:56:00  1600876560000  10458.1  10460.6  10458.1  10459.5   \n2020-09-23 15:57:00  1600876620000  10462.2  10462.3  10462.2  10462.3   \n2020-09-23 15:58:00  1600876680000  10462.3  10462.3  10462.3  10462.3   \n2020-09-23 15:59:00  1600876740000  10462.3  10462.3  10462.2  10462.3   \n\n                        volume  \ndate                            \n2020-09-23 15:50:00   0.335865  \n2020-09-23 15:51:00   2.959621  \n2020-09-23 15:52:00   2.292336  \n2020-09-23 15:53:00  17.144269  \n2020-09-23 15:54:00   8.603401  \n2020-09-23 15:55:00   4.550192  \n2020-09-23 15:56:00   0.663479  \n2020-09-23 15:57:00   0.093934  \n2020-09-23 15:58:00   0.049570  \n2020-09-23 15:59:00   3.319527  ",
      "text/html": "<div>\n<style scoped>\n    .dataframe tbody tr th:only-of-type {\n        vertical-align: middle;\n    }\n\n    .dataframe tbody tr th {\n        vertical-align: top;\n    }\n\n    .dataframe thead th {\n        text-align: right;\n    }\n</style>\n<table border=\"1\" class=\"dataframe\">\n  <thead>\n    <tr style=\"text-align: right;\">\n      <th></th>\n      <th>timestamp</th>\n      <th>open</th>\n      <th>high</th>\n      <th>low</th>\n      <th>close</th>\n      <th>volume</th>\n    </tr>\n    <tr>\n      <th>date</th>\n      <th></th>\n      <th></th>\n      <th></th>\n      <th></th>\n      <th></th>\n      <th></th>\n    </tr>\n  </thead>\n  <tbody>\n    <tr>\n      <th>2020-09-23 15:50:00</th>\n      <td>1600876200000</td>\n      <td>10467.0</td>\n      <td>10467.0</td>\n      <td>10467.0</td>\n      <td>10467.0</td>\n      <td>0.335865</td>\n    </tr>\n    <tr>\n      <th>2020-09-23 15:51:00</th>\n      <td>1600876260000</td>\n      <td>10467.0</td>\n      <td>10467.1</td>\n      <td>10467.0</td>\n      <td>10467.1</td>\n      <td>2.959621</td>\n    </tr>\n    <tr>\n      <th>2020-09-23 15:52:00</th>\n      <td>1600876320000</td>\n      <td>10467.1</td>\n      <td>10467.1</td>\n      <td>10460.0</td>\n      <td>10460.0</td>\n      <td>2.292336</td>\n    </tr>\n    <tr>\n      <th>2020-09-23 15:53:00</th>\n      <td>1600876380000</td>\n      <td>10460.0</td>\n      <td>10460.1</td>\n      <td>10455.0</td>\n      <td>10455.0</td>\n      <td>17.144269</td>\n    </tr>\n    <tr>\n      <th>2020-09-23 15:54:00</th>\n      <td>1600876440000</td>\n      <td>10455.0</td>\n      <td>10458.2</td>\n      <td>10455.0</td>\n      <td>10457.8</td>\n      <td>8.603401</td>\n    </tr>\n    <tr>\n      <th>2020-09-23 15:55:00</th>\n      <td>1600876500000</td>\n      <td>10457.8</td>\n      <td>10459.7</td>\n      <td>10453.3</td>\n      <td>10459.2</td>\n      <td>4.550192</td>\n    </tr>\n    <tr>\n      <th>2020-09-23 15:56:00</th>\n      <td>1600876560000</td>\n      <td>10458.1</td>\n      <td>10460.6</td>\n      <td>10458.1</td>\n      <td>10459.5</td>\n      <td>0.663479</td>\n    </tr>\n    <tr>\n      <th>2020-09-23 15:57:00</th>\n      <td>1600876620000</td>\n      <td>10462.2</td>\n      <td>10462.3</td>\n      <td>10462.2</td>\n      <td>10462.3</td>\n      <td>0.093934</td>\n    </tr>\n    <tr>\n      <th>2020-09-23 15:58:00</th>\n      <td>1600876680000</td>\n      <td>10462.3</td>\n      <td>10462.3</td>\n      <td>10462.3</td>\n      <td>10462.3</td>\n      <td>0.049570</td>\n    </tr>\n    <tr>\n      <th>2020-09-23 15:59:00</th>\n      <td>1600876740000</td>\n      <td>10462.3</td>\n      <td>10462.3</td>\n      <td>10462.2</td>\n      <td>10462.3</td>\n      <td>3.319527</td>\n    </tr>\n  </tbody>\n</table>\n</div>"
     },
     "metadata": {},
     "execution_count": 87
    }
   ],
   "source": [
    "btc_historical_prices_df.head(10)"
   ]
  },
  {
   "cell_type": "code",
   "execution_count": null,
   "metadata": {},
   "outputs": [],
   "source": []
  }
 ],
 "metadata": {
  "kernelspec": {
   "display_name": "Python 3",
   "language": "python",
   "name": "python3"
  },
  "language_info": {
   "codemirror_mode": {
    "name": "ipython",
    "version": 3
   },
   "file_extension": ".py",
   "mimetype": "text/x-python",
   "name": "python",
   "nbconvert_exporter": "python",
   "pygments_lexer": "ipython3",
   "version": "3.7.4-final"
  }
 },
 "nbformat": 4,
 "nbformat_minor": 4
}